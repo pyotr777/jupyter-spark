{
 "cells": [
  {
   "cell_type": "markdown",
   "metadata": {},
   "source": [
    "# MNIST"
   ]
  },
  {
   "cell_type": "code",
   "execution_count": 62,
   "metadata": {
    "collapsed": false
   },
   "outputs": [
    {
     "name": "stdout",
     "output_type": "stream",
     "text": [
      "[0, 0, 0, 0, 0, 0, 0, 0, 0, 0, 0, 0, 0, 0, 0, 0, 0, 0, 0, 0, 0, 0, 0, 0, 0, 0, 0, 0, 0, 0, 0, 0, 0, 0, 0, 0, 0, 0, 0, 0, 0, 0, 0, 0, 0, 0, 0, 0, 0, 0, 0, 0, 0, 0, 0, 0, 0, 0, 0, 0, 0, 0, 0, 0, 0, 0, 0, 0, 0, 0, 0, 0, 0, 0, 0, 0, 0, 0, 0, 0, 0, 0, 0, 0, 0, 0, 0, 0, 0, 0, 0, 0, 0, 0, 0, 0, 0, 0, 0, 0, 0, 0, 0, 0, 0, 0, 0, 0, 0, 0, 0, 0, 0, 0, 0, 0, 0, 0, 0, 0, 0, 0, 0, 0, 0, 0, 0, 0, 0, 0, 0, 0, 0, 0, 0, 0, 0, 0, 0, 0, 0, 0, 0, 0, 0, 0, 0, 0, 0, 0, 0, 0, 0, 0, 0, 0, 0, 0, 0, 0, 0, 0, 0, 0, 0, 0, 0, 0, 0, 0, 0, 0, 0, 0, 0, 0, 0, 0, 0, 0, 0, 0, 0, 0, 0, 0, 0, 0, 0, 0, 0, 0, 0, 0, 0, 0, 0, 0, 0, 0, 0, 0, 84, 185, 159, 151, 60, 36, 0, 0, 0, 0, 0, 0, 0, 0, 0, 0, 0, 0, 0, 0, 0, 0, 0, 0, 0, 0, 0, 0, 222, 254, 254, 254, 254, 241, 198, 198, 198, 198, 198, 198, 198, 198, 170, 52, 0, 0, 0, 0, 0, 0, 0, 0, 0, 0, 0, 0, 67, 114, 72, 114, 163, 227, 254, 225, 254, 254, 254, 250, 229, 254, 254, 140, 0, 0, 0, 0, 0, 0, 0, 0, 0, 0, 0, 0, 0, 0, 0, 0, 0, 17, 66, 14, 67, 67, 67, 59, 21, 236, 254, 106, 0, 0, 0, 0, 0, 0, 0, 0, 0, 0, 0, 0, 0, 0, 0, 0, 0, 0, 0, 0, 0, 0, 0, 0, 83, 253, 209, 18, 0, 0, 0, 0, 0, 0, 0, 0, 0, 0, 0, 0, 0, 0, 0, 0, 0, 0, 0, 0, 0, 0, 0, 22, 233, 255, 83, 0, 0, 0, 0, 0, 0, 0, 0, 0, 0, 0, 0, 0, 0, 0, 0, 0, 0, 0, 0, 0, 0, 0, 0, 129, 254, 238, 44, 0, 0, 0, 0, 0, 0, 0, 0, 0, 0, 0, 0, 0, 0, 0, 0, 0, 0, 0, 0, 0, 0, 0, 59, 249, 254, 62, 0, 0, 0, 0, 0, 0, 0, 0, 0, 0, 0, 0, 0, 0, 0, 0, 0, 0, 0, 0, 0, 0, 0, 0, 133, 254, 187, 5, 0, 0, 0, 0, 0, 0, 0, 0, 0, 0, 0, 0, 0, 0, 0, 0, 0, 0, 0, 0, 0, 0, 0, 9, 205, 248, 58, 0, 0, 0, 0, 0, 0, 0, 0, 0, 0, 0, 0, 0, 0, 0, 0, 0, 0, 0, 0, 0, 0, 0, 0, 126, 254, 182, 0, 0, 0, 0, 0, 0, 0, 0, 0, 0, 0, 0, 0, 0, 0, 0, 0, 0, 0, 0, 0, 0, 0, 0, 75, 251, 240, 57, 0, 0, 0, 0, 0, 0, 0, 0, 0, 0, 0, 0, 0, 0, 0, 0, 0, 0, 0, 0, 0, 0, 0, 19, 221, 254, 166, 0, 0, 0, 0, 0, 0, 0, 0, 0, 0, 0, 0, 0, 0, 0, 0, 0, 0, 0, 0, 0, 0, 0, 3, 203, 254, 219, 35, 0, 0, 0, 0, 0, 0, 0, 0, 0, 0, 0, 0, 0, 0, 0, 0, 0, 0, 0, 0, 0, 0, 0, 38, 254, 254, 77, 0, 0, 0, 0, 0, 0, 0, 0, 0, 0, 0, 0, 0, 0, 0, 0, 0, 0, 0, 0, 0, 0, 0, 31, 224, 254, 115, 1, 0, 0, 0, 0, 0, 0, 0, 0, 0, 0, 0, 0, 0, 0, 0, 0, 0, 0, 0, 0, 0, 0, 0, 133, 254, 254, 52, 0, 0, 0, 0, 0, 0, 0, 0, 0, 0, 0, 0, 0, 0, 0, 0, 0, 0, 0, 0, 0, 0, 0, 61, 242, 254, 254, 52, 0, 0, 0, 0, 0, 0, 0, 0, 0, 0, 0, 0, 0, 0, 0, 0, 0, 0, 0, 0, 0, 0, 0, 121, 254, 254, 219, 40, 0, 0, 0, 0, 0, 0, 0, 0, 0, 0, 0, 0, 0, 0, 0, 0, 0, 0, 0, 0, 0, 0, 0, 121, 254, 207, 18, 0, 0, 0, 0, 0, 0, 0, 0, 0, 0, 0, 0, 0, 0, 0, 0, 0, 0, 0, 0, 0, 0, 0, 0, 0, 0, 0, 0, 0, 0, 0, 0, 0, 0, 0, 0, 0, 0, 0, 0, 0, 0]\n"
     ]
    },
    {
     "data": {
      "image/png": "[encoded data removed]",
      "text/plain": [
       "<matplotlib.figure.Figure at 0x7f2b788b3750>"
      ]
     },
     "metadata": {},
     "output_type": "display_data"
    }
   ],
   "source": [
    "import numpy as np\n",
    "import matplotlib.pyplot as plt\n",
    "import matplotlib.cm as cm\n",
    "image1=[]\n",
    "mnistData = open('/root/examples/data/mnist/t10k-images-idx3-ubyte','rb')\n",
    "mnistData.seek(0,0)\n",
    "mnistData.read(16)\n",
    "for i in range(0,28*28):\n",
    "    b=int(mnistData.read(1).encode('hex'),16)\n",
    "    image1.append(b)\n",
    "    \n",
    "print(image1)\n",
    "arr = np.array(image1)\n",
    "plt.imshow(arr.reshape((28, 28)),cmap=cm.Greys_r)\n",
    "plt.axis('off')\n",
    "plt.show()"
   ]
  },
  {
   "cell_type": "markdown",
   "metadata": {},
   "source": [
    "## Convert to CSV\n",
    "\n",
    "[MNIST in CSV](http://pjreddie.com/projects/mnist-in-csv/)"
   ]
  },
  {
   "cell_type": "code",
   "execution_count": 21,
   "metadata": {
    "collapsed": true
   },
   "outputs": [],
   "source": [
    "def convert(imgf, labelf, outf, n):\n",
    "    f = open(imgf, \"rb\")\n",
    "    o = open(outf, \"w\")\n",
    "    l = open(labelf, \"rb\")\n",
    "\n",
    "    f.read(16)\n",
    "    l.read(8)\n",
    "    images = []\n",
    "\n",
    "    for i in range(n):\n",
    "        image = [ord(l.read(1))]\n",
    "        for j in range(28*28):\n",
    "            image.append(ord(f.read(1)))\n",
    "        images.append(image)\n",
    "\n",
    "    for image in images:\n",
    "        o.write(\",\".join(str(pix) for pix in image)+\"\\n\")\n",
    "    f.close()\n",
    "    o.close()\n",
    "    l.close()\n",
    "\n",
    "convert(\"/root/examples/data/mnist/train-images-idx3-ubyte\", \"/root/examples/data/mnist/train-labels-idx1-ubyte\",\n",
    "        \"/root/examples/data/mnist/mnist_train.csv\", 60000)\n",
    "convert(\"/root/examples/data/mnist/t10k-images-idx3-ubyte\", \"/root/examples/data/mnist/t10k-labels-idx1-ubyte\",\n",
    "        \"/root/examples/data/mnist/mnist_test.csv\", 10000)"
   ]
  },
  {
   "cell_type": "markdown",
   "metadata": {},
   "source": [
    "### Read data\n",
    "\n",
    "[MSDN: Data Processing and Machine Learning on Spark](https://msdn.microsoft.com/en-us/magazine/mt694087.aspx?f=255&MSPPError=-2147217396)"
   ]
  },
  {
   "cell_type": "code",
   "execution_count": 81,
   "metadata": {
    "collapsed": true
   },
   "outputs": [],
   "source": [
    "fileNameTrain = '/root/examples/data/mnist/mnist_train.csv'\n",
    "fileNameTest = '/root/examples/data/mnist/mnist_test.csv'\n",
    "mnist_train = sc.textFile(fileNameTrain)\n",
    "mnist_test = sc.textFile(fileNameTest)"
   ]
  },
  {
   "cell_type": "code",
   "execution_count": 82,
   "metadata": {
    "collapsed": true
   },
   "outputs": [],
   "source": [
    "def parsePoint(line):\n",
    "  #Parse a line of text into an MLlib LabeledPoint object\n",
    "  values = line.split(',')\n",
    "  values = [0 if e == '' else int(e) for e in values]\n",
    "  return LabeledPoint(int(values[0]), values[1:])"
   ]
  },
  {
   "cell_type": "code",
   "execution_count": 83,
   "metadata": {
    "collapsed": true
   },
   "outputs": [],
   "source": [
    "points = mnist_train.map(parsePoint)"
   ]
  },
  {
   "cell_type": "code",
   "execution_count": 84,
   "metadata": {
    "collapsed": false
   },
   "outputs": [
    {
     "data": {
      "text/plain": [
       "defaultdict(int,\n",
       "            {u'0': 5923,\n",
       "             u'1': 6742,\n",
       "             u'2': 5958,\n",
       "             u'3': 6131,\n",
       "             u'4': 5842,\n",
       "             u'5': 5421,\n",
       "             u'6': 5918,\n",
       "             u'7': 6265,\n",
       "             u'8': 5851,\n",
       "             u'9': 5949})"
      ]
     },
     "execution_count": 84,
     "metadata": {},
     "output_type": "execute_result"
    }
   ],
   "source": [
    "mnist_train.countByKey()"
   ]
  },
  {
   "cell_type": "code",
   "execution_count": 106,
   "metadata": {
    "collapsed": false
   },
   "outputs": [
    {
     "data": {
      "image/png": "[encoded data removed]",
      "text/plain": [
       "<matplotlib.figure.Figure at 0x7f2b78e1b7d0>"
      ]
     },
     "metadata": {},
     "output_type": "display_data"
    }
   ],
   "source": [
    "# Draw sample\n",
    "def drawElement(dataset,sample_num):\n",
    "    sample = dataset.take(sample_num)\n",
    "    img = sample[sample_num-1].split(',')\n",
    "    #print(len(img))\n",
    "    image1=[]\n",
    "    for i in range(0,28*28):\n",
    "        b=int(img[i])\n",
    "        image1.append(b)\n",
    "\n",
    "    arr = np.array(image1)\n",
    "    plt.imshow(arr.reshape((28, 28)),cmap=cm.Greys_r)\n",
    "    plt.axis('off')\n",
    "    plt.show()\n",
    "    \n",
    "drawElement(mnist_train,3)"
   ]
  },
  {
   "cell_type": "code",
   "execution_count": 107,
   "metadata": {
    "collapsed": true
   },
   "outputs": [],
   "source": [
    "trainingData = mnist_train.map(parsePoint)\n",
    "testData = mnist_test.map(parsePoint)"
   ]
  },
  {
   "cell_type": "code",
   "execution_count": 109,
   "metadata": {
    "collapsed": false
   },
   "outputs": [
    {
     "name": "stdout",
     "output_type": "stream",
     "text": [
      "Training time --- 28.6793658733 seconds ---\n"
     ]
    }
   ],
   "source": [
    "import time\n",
    "from pyspark.mllib.tree import RandomForest\n",
    "depthLevel = 4\n",
    "treeLevel = 3\n",
    "#start timer\n",
    "start_time = time.time()\n",
    "#this is building a model using the Random Forest algorithm from Spark MLLib\n",
    "model = RandomForest.trainClassifier(trainingData, numClasses=10, \n",
    "  categoricalFeaturesInfo={},\n",
    "  numTrees=treeLevel, featureSubsetStrategy=\"auto\",\n",
    "  impurity='gini', maxDepth=depthLevel, maxBins=32) \n",
    "print(\"Training time --- %s seconds ---\" % (time.time() - start_time))"
   ]
  },
  {
   "cell_type": "code",
   "execution_count": 112,
   "metadata": {
    "collapsed": false
   },
   "outputs": [
    {
     "name": "stdout",
     "output_type": "stream",
     "text": [
      "Test Error = 0.4066\n",
      "Prediction time --- 5.70749902725 seconds ---\n"
     ]
    }
   ],
   "source": [
    "start_time = time.time()\n",
    "#make predictions using the Machine Learning created prior\n",
    "predictions = model.predict(testData.map(lambda x: x.features))\n",
    "#validate predictions using the training set\n",
    "labelsAndPredictions = testData.map(lambda lp: lp.label).zip(predictions)\n",
    "testErr = labelsAndPredictions.filter(lambda (v, p): v != p).count() / float(testData.count())\n",
    "print('Test Error = ' + str(testErr))\n",
    "print(\"Prediction time --- %s seconds ---\" % (time.time() - start_time))"
   ]
  },
  {
   "cell_type": "code",
   "execution_count": 113,
   "metadata": {
    "collapsed": false
   },
   "outputs": [
    {
     "name": "stdout",
     "output_type": "stream",
     "text": [
      "\\maxDepth = 4.0, trees = 3.0: trainErr = 0.44200\n",
      "Prediction time --- 34.9708471298 seconds ---\n",
      "\\maxDepth = 4.0, trees = 4.0: trainErr = 0.39240\n",
      "Prediction time --- 34.9173491001 seconds ---\n",
      "\\maxDepth = 4.0, trees = 5.0: trainErr = 0.33150\n",
      "Prediction time --- 34.776695013 seconds ---\n",
      "\\maxDepth = 4.0, trees = 6.0: trainErr = 0.35460\n",
      "Prediction time --- 35.2629759312 seconds ---\n",
      "\\maxDepth = 4.0, trees = 7.0: trainErr = 0.33590\n",
      "Prediction time --- 34.9054150581 seconds ---\n",
      "\\maxDepth = 4.0, trees = 8.0: trainErr = 0.28210\n",
      "Prediction time --- 34.2467489243 seconds ---\n",
      "\\maxDepth = 4.0, trees = 9.0: trainErr = 0.27890\n",
      "Prediction time --- 35.7888429165 seconds ---\n",
      "\\maxDepth = 5.0, trees = 3.0: trainErr = 0.33390\n",
      "Prediction time --- 35.4224689007 seconds ---\n",
      "\\maxDepth = 5.0, trees = 4.0: trainErr = 0.29390\n",
      "Prediction time --- 35.0831019878 seconds ---\n",
      "\\maxDepth = 5.0, trees = 5.0: trainErr = 0.27450\n",
      "Prediction time --- 34.2007930279 seconds ---\n",
      "\\maxDepth = 5.0, trees = 6.0: trainErr = 0.25440\n",
      "Prediction time --- 35.1656780243 seconds ---\n",
      "\\maxDepth = 5.0, trees = 7.0: trainErr = 0.25110\n",
      "Prediction time --- 35.6833720207 seconds ---\n",
      "\\maxDepth = 5.0, trees = 8.0: trainErr = 0.21870\n",
      "Prediction time --- 35.5967478752 seconds ---\n",
      "\\maxDepth = 5.0, trees = 9.0: trainErr = 0.22460\n",
      "Prediction time --- 36.355659008 seconds ---\n",
      "\\maxDepth = 6.0, trees = 3.0: trainErr = 0.26740\n",
      "Prediction time --- 35.5408170223 seconds ---\n",
      "\\maxDepth = 6.0, trees = 4.0: trainErr = 0.23430\n",
      "Prediction time --- 36.0107491016 seconds ---\n",
      "\\maxDepth = 6.0, trees = 5.0: trainErr = 0.21040\n",
      "Prediction time --- 36.1947910786 seconds ---\n",
      "\\maxDepth = 6.0, trees = 6.0: trainErr = 0.20340\n",
      "Prediction time --- 35.5408029556 seconds ---\n",
      "\\maxDepth = 6.0, trees = 7.0: trainErr = 0.20320\n",
      "Prediction time --- 36.6056118011 seconds ---\n",
      "\\maxDepth = 6.0, trees = 8.0: trainErr = 0.17990\n",
      "Prediction time --- 35.641261816 seconds ---\n",
      "\\maxDepth = 6.0, trees = 9.0: trainErr = 0.16870\n",
      "Prediction time --- 37.0691108704 seconds ---\n",
      "\\maxDepth = 7.0, trees = 3.0: trainErr = 0.21750\n",
      "Prediction time --- 36.6549971104 seconds ---\n",
      "\\maxDepth = 7.0, trees = 4.0: trainErr = 0.18740\n",
      "Prediction time --- 36.9287071228 seconds ---\n",
      "\\maxDepth = 7.0, trees = 5.0: trainErr = 0.16600\n",
      "Prediction time --- 37.2308177948 seconds ---\n",
      "\\maxDepth = 7.0, trees = 6.0: trainErr = 0.15680\n",
      "Prediction time --- 37.9367880821 seconds ---\n",
      "\\maxDepth = 7.0, trees = 7.0: trainErr = 0.15970\n",
      "Prediction time --- 37.5850019455 seconds ---\n",
      "\\maxDepth = 7.0, trees = 8.0: trainErr = 0.14310\n",
      "Prediction time --- 38.9985208511 seconds ---\n",
      "\\maxDepth = 7.0, trees = 9.0: trainErr = 0.13490\n",
      "Prediction time --- 38.2107329369 seconds ---\n",
      "\\maxDepth = 8.0, trees = 3.0: trainErr = 0.19020\n",
      "Prediction time --- 37.0657491684 seconds ---\n",
      "\\maxDepth = 8.0, trees = 4.0: trainErr = 0.16170\n",
      "Prediction time --- 37.5764620304 seconds ---\n",
      "\\maxDepth = 8.0, trees = 5.0: trainErr = 0.14710\n",
      "Prediction time --- 39.2217600346 seconds ---\n",
      "\\maxDepth = 8.0, trees = 6.0: trainErr = 0.12920\n",
      "Prediction time --- 38.7877640724 seconds ---\n",
      "\\maxDepth = 8.0, trees = 7.0: trainErr = 0.12860\n",
      "Prediction time --- 38.1222929955 seconds ---\n",
      "\\maxDepth = 8.0, trees = 8.0: trainErr = 0.11940\n",
      "Prediction time --- 40.0980658531 seconds ---\n",
      "\\maxDepth = 8.0, trees = 9.0: trainErr = 0.10870\n",
      "Prediction time --- 40.6572701931 seconds ---\n",
      "\\maxDepth = 9.0, trees = 3.0: trainErr = 0.15880\n",
      "Prediction time --- 38.5427849293 seconds ---\n",
      "\\maxDepth = 9.0, trees = 4.0: trainErr = 0.13630\n",
      "Prediction time --- 39.007076025 seconds ---\n",
      "\\maxDepth = 9.0, trees = 5.0: trainErr = 0.12810\n",
      "Prediction time --- 39.4988939762 seconds ---\n",
      "\\maxDepth = 9.0, trees = 6.0: trainErr = 0.11470\n",
      "Prediction time --- 41.7945058346 seconds ---\n",
      "\\maxDepth = 9.0, trees = 7.0: trainErr = 0.10760\n",
      "Prediction time --- 43.9046671391 seconds ---\n",
      "\\maxDepth = 9.0, trees = 8.0: trainErr = 0.09860\n",
      "Prediction time --- 44.7910060883 seconds ---\n",
      "\\maxDepth = 9.0, trees = 9.0: trainErr = 0.09470\n",
      "Prediction time --- 46.2660541534 seconds ---\n",
      "Best Test Error: = 0.095\n",
      "\n"
     ]
    }
   ],
   "source": [
    "bestModel = None\n",
    "bestTestErr = 100\n",
    "#Define a range of hyperparameters to try\n",
    "maxDepths = range(4,10)\n",
    "maxTrees = range(3,10)\n",
    "\n",
    "#Loop over parameters for depth and tree level(s)\n",
    "for depthLevel in maxDepths:\n",
    "    for treeLevel in maxTrees:\n",
    "     \n",
    "        #start timer\n",
    "        start_time = time.time()\n",
    "        #Train RandomForest machine learning classifier\n",
    "        model = RandomForest.trainClassifier(trainingData, \n",
    "            numClasses=10, categoricalFeaturesInfo={},\n",
    "            numTrees=treeLevel, featureSubsetStrategy=\"auto\",\n",
    "            impurity='gini', maxDepth=depthLevel, maxBins=32)       \n",
    "    \n",
    "        #Make predictions using the model created above\n",
    "        predictions = model.predict(testData.map(lambda x: x.features))\n",
    "        #Join predictions with actual values from the data and determine the error rate\n",
    "        labelsAndPredictions = testData.map(lambda lp: lp.label).zip(predictions)\n",
    "        testErr = labelsAndPredictions.filter(lambda (v, p): v != p).count() / float(testData.count())\n",
    "        #Print information about the model as we proceed with each iteration of the loop\n",
    "        print ('\\maxDepth = {0:.1f}, trees = {1:.1f}: trainErr = {2:.5f}'.format(depthLevel, treeLevel, testErr))\n",
    "        print(\"Prediction time --- %s seconds ---\" % (time.time() - start_time))\n",
    "        if (testErr < bestTestErr):\n",
    "            bestModel = model\n",
    "            bestTestErr = testErr\n",
    " \n",
    "print ('Best Test Error: = {0:.3f}\\n'.format(bestTestErr))"
   ]
  },
  {
   "cell_type": "markdown",
   "metadata": {},
   "source": [
    "# MLlib\n",
    "\n",
    "http://spark.apache.org/docs/1.6.2/mllib-data-types.html"
   ]
  },
  {
   "cell_type": "markdown",
   "metadata": {
    "collapsed": true
   },
   "source": [
    "## Resilient Distributed Datasets (RDDs) "
   ]
  },
  {
   "cell_type": "code",
   "execution_count": 1,
   "metadata": {
    "collapsed": true
   },
   "outputs": [],
   "source": [
    "# RDDs test\n",
    "from pyspark.mllib.linalg.distributed import RowMatrix\n",
    "\n",
    "# Create an RDD of vectors.\n",
    "rows = sc.parallelize([[1, 2, 3], [4, 5, 6], [7, 8, 9], [10, 11, 12]])\n",
    "\n",
    "# Create a RowMatrix from an RDD of vectors.\n",
    "mat = RowMatrix(rows)\n",
    "\n",
    "# Get its size.\n",
    "m = mat.numRows()  # 4\n",
    "n = mat.numCols()  # 3\n",
    "\n",
    "# Get the rows as an RDD of vectors again.\n",
    "rowsRDD = mat.rows"
   ]
  },
  {
   "cell_type": "code",
   "execution_count": 2,
   "metadata": {
    "collapsed": false
   },
   "outputs": [
    {
     "data": {
      "text/plain": [
       "[DenseVector([1.0, 2.0, 3.0])]"
      ]
     },
     "execution_count": 2,
     "metadata": {},
     "output_type": "execute_result"
    }
   ],
   "source": [
    "rowsRDD.take(1)"
   ]
  },
  {
   "cell_type": "code",
   "execution_count": null,
   "metadata": {
    "collapsed": true
   },
   "outputs": [],
   "source": []
  }
 ],
 "metadata": {
  "kernelspec": {
   "display_name": "Python 2",
   "language": "python",
   "name": "python2"
  },
  "language_info": {
   "codemirror_mode": {
    "name": "ipython",
    "version": 2
   },
   "file_extension": ".py",
   "mimetype": "text/x-python",
   "name": "python",
   "nbconvert_exporter": "python",
   "pygments_lexer": "ipython2",
   "version": "2.7.6"
  }
 },
 "nbformat": 4,
 "nbformat_minor": 1
}
